{
 "cells": [
  {
   "cell_type": "code",
   "execution_count": 14,
   "metadata": {},
   "outputs": [
    {
     "name": "stdout",
     "output_type": "stream",
     "text": [
      "File not found\n",
      "Datei geschlossen\n",
      "Das Programm geht weiter und ist nicht abgestürzt!\n"
     ]
    }
   ],
   "source": [
    "try:\n",
    "    file = open(\"text.txt\", \"r\")\n",
    "    print(file.read())\n",
    "except Exception as e:\n",
    "    print('File not found')\n",
    "else:\n",
    "    print(\"Datei erfolgreich gelesen!\") # else ist optional, es gibt zusätzlich eine Bestätigung aus, wenn es klappt \n",
    "finally: \n",
    "    file.close()\n",
    "    print(\"Datei geschlossen\")\n",
    "\n",
    "print(\"Das Programm geht weiter und ist nicht abgestürzt!\")"
   ]
  },
  {
   "cell_type": "markdown",
   "metadata": {},
   "source": [
    "Solange wir den Kanal zu der Datei offen haben (solange das Script läuft und der stream offen ist), kann kein zweiter die Datei auslesen. \n",
    "Deswegen muss die Datei wieder geschlossen werden, sobal Try ausfegührt wurde (auch wenn die Exception geworfen wurde). Dafür ist finally gut."
   ]
  },
  {
   "cell_type": "code",
   "execution_count": 17,
   "metadata": {},
   "outputs": [],
   "source": []
  }
 ],
 "metadata": {
  "kernelspec": {
   "display_name": ".venv",
   "language": "python",
   "name": "python3"
  },
  "language_info": {
   "codemirror_mode": {
    "name": "ipython",
    "version": 3
   },
   "file_extension": ".py",
   "mimetype": "text/x-python",
   "name": "python",
   "nbconvert_exporter": "python",
   "pygments_lexer": "ipython3",
   "version": "3.10.12"
  }
 },
 "nbformat": 4,
 "nbformat_minor": 2
}
