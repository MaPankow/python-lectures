{
 "cells": [
  {
   "cell_type": "markdown",
   "metadata": {},
   "source": [
    "Exception Handling\n"
   ]
  },
  {
   "cell_type": "code",
   "execution_count": 3,
   "metadata": {},
   "outputs": [
    {
     "name": "stdout",
     "output_type": "stream",
     "text": [
      "3.0\n"
     ]
    }
   ],
   "source": [
    "# Funktion, die zwei Zahlen entgegennimmt und diese dividiert\n",
    "def divide(a, b):\n",
    "    result = a / b\n",
    "    return result\n",
    "\n",
    "print(divide(6, 2))"
   ]
  },
  {
   "cell_type": "markdown",
   "metadata": {},
   "source": [
    "Durch 0 teilen"
   ]
  },
  {
   "cell_type": "code",
   "execution_count": 4,
   "metadata": {},
   "outputs": [
    {
     "ename": "ZeroDivisionError",
     "evalue": "division by zero",
     "output_type": "error",
     "traceback": [
      "\u001b[0;31m---------------------------------------------------------------------------\u001b[0m",
      "\u001b[0;31mZeroDivisionError\u001b[0m                         Traceback (most recent call last)",
      "Cell \u001b[0;32mIn[4], line 2\u001b[0m\n\u001b[1;32m      1\u001b[0m \u001b[38;5;66;03m#durch 0 teilen\u001b[39;00m\n\u001b[0;32m----> 2\u001b[0m \u001b[38;5;28mprint\u001b[39m(\u001b[43mdivide\u001b[49m\u001b[43m(\u001b[49m\u001b[38;5;241;43m6\u001b[39;49m\u001b[43m,\u001b[49m\u001b[43m \u001b[49m\u001b[38;5;241;43m0\u001b[39;49m\u001b[43m)\u001b[49m)\n",
      "Cell \u001b[0;32mIn[3], line 3\u001b[0m, in \u001b[0;36mdivide\u001b[0;34m(a, b)\u001b[0m\n\u001b[1;32m      2\u001b[0m \u001b[38;5;28;01mdef\u001b[39;00m \u001b[38;5;21mdivide\u001b[39m(a, b):\n\u001b[0;32m----> 3\u001b[0m     result \u001b[38;5;241m=\u001b[39m \u001b[43ma\u001b[49m\u001b[43m \u001b[49m\u001b[38;5;241;43m/\u001b[39;49m\u001b[43m \u001b[49m\u001b[43mb\u001b[49m\n\u001b[1;32m      4\u001b[0m     \u001b[38;5;28;01mreturn\u001b[39;00m result\n",
      "\u001b[0;31mZeroDivisionError\u001b[0m: division by zero"
     ]
    }
   ],
   "source": [
    "#durch 0 teilen\n",
    "print(divide(6, 0)) #ZeroDivisionError stoppt das Programm"
   ]
  },
  {
   "cell_type": "markdown",
   "metadata": {},
   "source": [
    "TypeError:"
   ]
  },
  {
   "cell_type": "code",
   "execution_count": 5,
   "metadata": {},
   "outputs": [
    {
     "ename": "TypeError",
     "evalue": "unsupported operand type(s) for /: 'str' and 'int'",
     "output_type": "error",
     "traceback": [
      "\u001b[0;31m---------------------------------------------------------------------------\u001b[0m",
      "\u001b[0;31mTypeError\u001b[0m                                 Traceback (most recent call last)",
      "Cell \u001b[0;32mIn[5], line 5\u001b[0m\n\u001b[1;32m      2\u001b[0m     result \u001b[38;5;241m=\u001b[39m a \u001b[38;5;241m/\u001b[39m b\n\u001b[1;32m      3\u001b[0m     \u001b[38;5;28;01mreturn\u001b[39;00m result\n\u001b[0;32m----> 5\u001b[0m \u001b[38;5;28mprint\u001b[39m(\u001b[43mdivide\u001b[49m\u001b[43m(\u001b[49m\u001b[38;5;124;43m\"\u001b[39;49m\u001b[38;5;124;43m6\u001b[39;49m\u001b[38;5;124;43m\"\u001b[39;49m\u001b[43m,\u001b[49m\u001b[43m \u001b[49m\u001b[38;5;241;43m2\u001b[39;49m\u001b[43m)\u001b[49m) \u001b[38;5;66;03m#aus der Zahl wird ein String\u001b[39;00m\n",
      "Cell \u001b[0;32mIn[5], line 2\u001b[0m, in \u001b[0;36mdivide\u001b[0;34m(a, b)\u001b[0m\n\u001b[1;32m      1\u001b[0m \u001b[38;5;28;01mdef\u001b[39;00m \u001b[38;5;21mdivide\u001b[39m(a, b):\n\u001b[0;32m----> 2\u001b[0m     result \u001b[38;5;241m=\u001b[39m \u001b[43ma\u001b[49m\u001b[43m \u001b[49m\u001b[38;5;241;43m/\u001b[39;49m\u001b[43m \u001b[49m\u001b[43mb\u001b[49m\n\u001b[1;32m      3\u001b[0m     \u001b[38;5;28;01mreturn\u001b[39;00m result\n",
      "\u001b[0;31mTypeError\u001b[0m: unsupported operand type(s) for /: 'str' and 'int'"
     ]
    }
   ],
   "source": [
    "def divide(a, b):\n",
    "    result = a / b\n",
    "    return result\n",
    "\n",
    "print(divide(\"6\", 2)) #aus der Zahl wird ein String"
   ]
  },
  {
   "cell_type": "markdown",
   "metadata": {},
   "source": [
    "Sobald ein Error auftaucht, wird das Programm beendet und läuft nicht weiter, sobald der User durch 0 teilen will oder irggendwas anderes eingibt.\n",
    "Damit das aufgefangen wird, gibt es das Exception Handling.\n",
    "Try-Funktion: Versuche, das zu machen. Wenn alles gut geht, läuft es einfach weiter. Wenn nicht, geht er in der except-Block. \n",
    "Zu jedem try-Block muss es also mindestens einen except-Block geben."
   ]
  },
  {
   "cell_type": "code",
   "execution_count": 8,
   "metadata": {},
   "outputs": [
    {
     "name": "stdout",
     "output_type": "stream",
     "text": [
      "Du kannst nicht durch 0 teilen!\n",
      "None\n",
      "Bitte nur Zahlen eingeben!\n",
      "None\n"
     ]
    }
   ],
   "source": [
    "def divide(a, b):\n",
    "    try:\n",
    "        result = a / b\n",
    "        return result\n",
    "    except ZeroDivisionError as e:\n",
    "        print(\"Du kannst nicht durch 0 teilen!\")\n",
    "    except TypeError as e:\n",
    "        print(\"Bitte nur Zahlen eingeben!\")\n",
    "\n",
    "print(divide(6, 0))\n",
    "print(divide(\"6\", 2)) "
   ]
  },
  {
   "cell_type": "markdown",
   "metadata": {},
   "source": [
    "Im Grunde ist es ein if-elif-else. Exception-Handling wird sehr häufig verwendet, auch in anderen Sprachen.\n",
    "Bet Practice ist es, die Fehler genau abzufangen. Manchmal können wir aber nicht vorhersehen, welche Fehler überhaupt alle geworfen werden können.\n",
    "Wenn es in diesem Fall kein ZeroDivisionError oder TypeError ist, können wir darauf nicht reagieren."
   ]
  },
  {
   "cell_type": "code",
   "execution_count": 9,
   "metadata": {},
   "outputs": [
    {
     "name": "stdout",
     "output_type": "stream",
     "text": [
      "<class 'ZeroDivisionError'>\n",
      "None\n",
      "<class 'TypeError'>\n",
      "None\n"
     ]
    }
   ],
   "source": [
    "def divide(a, b):\n",
    "    try:\n",
    "        result = a / b\n",
    "        return result\n",
    "\n",
    "    except Exception as e:\n",
    "        print(type(e))\n",
    "\n",
    "print(divide(6, 0))\n",
    "print(divide(\"6\", 2)) "
   ]
  },
  {
   "cell_type": "markdown",
   "metadata": {},
   "source": [
    "<class 'ZeroDivisionError'>\n",
    "None\n",
    "<class 'TypeError'>\n",
    "None\n",
    "\n",
    "Man möchte den Namen des Errors haben, um darauf im Code reagieren und in einem if-Zweig einsetzen können.\n"
   ]
  },
  {
   "cell_type": "code",
   "execution_count": 12,
   "metadata": {},
   "outputs": [
    {
     "name": "stdout",
     "output_type": "stream",
     "text": [
      "<class 'ZeroDivisionError'>\n",
      "ZeroDivisionError\n",
      "division by zero\n",
      "None\n",
      "<class 'TypeError'>\n",
      "TypeError\n",
      "unsupported operand type(s) for /: 'str' and 'int'\n",
      "None\n"
     ]
    }
   ],
   "source": [
    "def divide(a, b):\n",
    "    try:\n",
    "        result = float a / b\n",
    "        return result\n",
    "\n",
    "    except Exception as e:\n",
    "        print(type(e)) #printet nur die class, man kann nicht so richtig auf den Namen des Errors reagieren\n",
    "        print(type(e).__name__) #printet den Fehlernamen, den man jetzt z. B. für eine if-else-Bedingung mutzen kann\n",
    "        print(str(e)) #Beschreibung des Fehlers\n",
    "\n",
    "print(divide(6, 0))\n",
    "print(divide(\"6\", 2)) "
   ]
  },
  {
   "cell_type": "code",
   "execution_count": 14,
   "metadata": {},
   "outputs": [
    {
     "name": "stdout",
     "output_type": "stream",
     "text": [
      "<class 'ZeroDivisionError'>\n",
      "ZeroDivisionError\n",
      "float division by zero\n",
      "None\n",
      "3.0\n",
      "<class 'ValueError'>\n",
      "ValueError\n",
      "could not convert string to float: 'sechs'\n",
      "None\n"
     ]
    }
   ],
   "source": [
    "def divide(a, b):\n",
    "    try:\n",
    "        result = float(a) / b\n",
    "        return result\n",
    "\n",
    "    except Exception as e:\n",
    "        print(type(e)) #printet nur die class, man kann nicht so richtig auf den Namen des Errors reagieren\n",
    "        print(type(e).__name__) #printet den Fehlernamen, den man jetzt z. B. für eine if-else-Bedingung mutzen kann\n",
    "        print(str(e)) #Beschreibung des Fehlers\n",
    "\n",
    "print(divide(6, 0))\n",
    "print(divide(\"6\", 2)) \n",
    "print(divide(\"sechs\", 2))"
   ]
  },
  {
   "cell_type": "markdown",
   "metadata": {},
   "source": [
    "Grundlegende Syntax\n",
    "\n",
    "try: code probieren\n",
    "except: spezielle Fehler oder Fehlerklasse behandeln\n",
    "else: optional, was passiert, wenn es keinen Fehler gibt\n",
    "finally: Programm läuft weiter, in jedem Fall"
   ]
  },
  {
   "cell_type": "markdown",
   "metadata": {},
   "source": [
    "Dateien einlesen / Dateihandling\n"
   ]
  },
  {
   "cell_type": "markdown",
   "metadata": {},
   "source": []
  }
 ],
 "metadata": {
  "kernelspec": {
   "display_name": ".venv",
   "language": "python",
   "name": "python3"
  },
  "language_info": {
   "codemirror_mode": {
    "name": "ipython",
    "version": 3
   },
   "file_extension": ".py",
   "mimetype": "text/x-python",
   "name": "python",
   "nbconvert_exporter": "python",
   "pygments_lexer": "ipython3",
   "version": "3.10.12"
  }
 },
 "nbformat": 4,
 "nbformat_minor": 2
}
