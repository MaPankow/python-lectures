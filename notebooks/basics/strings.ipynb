{
 "cells": [
  {
   "cell_type": "markdown",
   "metadata": {},
   "source": [
    "# Strings"
   ]
  },
  {
   "cell_type": "markdown",
   "metadata": {},
   "source": [
    "## String formatting"
   ]
  },
  {
   "cell_type": "code",
   "execution_count": 1,
   "metadata": {},
   "outputs": [
    {
     "data": {
      "text/plain": [
       "'I am a formatted string literal.'"
      ]
     },
     "execution_count": 1,
     "metadata": {},
     "output_type": "execute_result"
    }
   ],
   "source": [
    "what = 'formatted string literal'\n",
    "\n",
    "f'I am a {what}.'"
   ]
  },
  {
   "cell_type": "code",
   "execution_count": null,
   "metadata": {
    "vscode": {
     "languageId": "javascript"
    }
   },
   "outputs": [],
   "source": [
    "// Template literals (Template strings) in JavaScript zum Vergleich\n",
    "`I am a ${what}`"
   ]
  },
  {
   "cell_type": "code",
   "execution_count": 2,
   "metadata": {},
   "outputs": [
    {
     "data": {
      "text/plain": [
       "'I am a formatted string literal'"
      ]
     },
     "execution_count": 2,
     "metadata": {},
     "output_type": "execute_result"
    }
   ],
   "source": [
    "'I am a {}'.format(what)"
   ]
  },
  {
   "cell_type": "code",
   "execution_count": 1,
   "metadata": {},
   "outputs": [
    {
     "data": {
      "text/plain": [
       "'3 + 5 = 8'"
      ]
     },
     "execution_count": 1,
     "metadata": {},
     "output_type": "execute_result"
    }
   ],
   "source": [
    "'{} + {} = {}'.format(3, 5, 8)"
   ]
  },
  {
   "cell_type": "code",
   "execution_count": 8,
   "metadata": {},
   "outputs": [
    {
     "data": {
      "text/plain": [
       "'5 + 3 = 8'"
      ]
     },
     "execution_count": 8,
     "metadata": {},
     "output_type": "execute_result"
    }
   ],
   "source": [
    "'{b} + {a} = {c}'.format(a=3, b=5, c=8)"
   ]
  },
  {
   "cell_type": "code",
   "execution_count": 14,
   "metadata": {},
   "outputs": [
    {
     "data": {
      "text/plain": [
       "('        42', '    42    ', '42        ')"
      ]
     },
     "execution_count": 14,
     "metadata": {},
     "output_type": "execute_result"
    }
   ],
   "source": [
    "n = 42\n",
    "\n",
    "f'{n:>10}', f'{n:^10}', f'{n:<10}'"
   ]
  },
  {
   "cell_type": "code",
   "execution_count": 18,
   "metadata": {},
   "outputs": [
    {
     "name": "stdout",
     "output_type": "stream",
     "text": [
      "  1\n",
      " 42\n",
      "123\n"
     ]
    }
   ],
   "source": [
    "for n in [1, 42, 123]:\n",
    "    print(f'{n:>3}')"
   ]
  },
  {
   "cell_type": "code",
   "execution_count": 32,
   "metadata": {},
   "outputs": [
    {
     "name": "stdout",
     "output_type": "stream",
     "text": [
      "Kapitel 1....................2\n",
      "Kapitel 2...................12\n",
      "Kapitel 13..................57\n"
     ]
    }
   ],
   "source": [
    "chapters = [\n",
    "    ('Kapitel 1', 2),\n",
    "    ('Kapitel 2', 12),\n",
    "    ('Kapitel 13', 57)\n",
    "]\n",
    "'''\n",
    "Kapitel 1 .........2\n",
    "Kapitel 2 ........12\n",
    "Kapitel 13 ........57\n",
    "'''\n",
    "\n",
    "for c in chapters:\n",
    "    print('{:.<20}{:.>10}'.format(c[0], c[1]))"
   ]
  },
  {
   "cell_type": "code",
   "execution_count": 45,
   "metadata": {},
   "outputs": [
    {
     "data": {
      "text/plain": [
       "'____3.1416'"
      ]
     },
     "execution_count": 45,
     "metadata": {},
     "output_type": "execute_result"
    }
   ],
   "source": [
    "pi = 3.14159265358979323\n",
    "f'{pi:_>10.5}'"
   ]
  },
  {
   "cell_type": "markdown",
   "metadata": {},
   "source": [
    "See also [Format Specification Mini-Language](https://docs.python.org/3/library/string.html#formatspec)"
   ]
  },
  {
   "cell_type": "markdown",
   "metadata": {},
   "source": [
    "Übung:\n",
    "\n",
    "Schreibe eine Funktion, die den Benutzer eine Liste von Zahlen eingeben lässt, diese in eine Liste speichert und anschließend als schriftliche Addition untereinander ausgibt:\n",
    "\n",
    "        1\n",
    "    +  42\n",
    "    + 123\n",
    "    -----\n",
    "    = 166\n",
    "    ====="
   ]
  },
  {
   "cell_type": "code",
   "execution_count": 46,
   "metadata": {},
   "outputs": [
    {
     "data": {
      "text/plain": [
       "'Ich Bin Ein TEXT Mit ganZ WÜsteR GROSS und kleinschreibung'"
      ]
     },
     "execution_count": 46,
     "metadata": {},
     "output_type": "execute_result"
    }
   ],
   "source": [
    "text = 'Ich Bin Ein TEXT Mit ganZ WÜsteR GROSS und kleinschreibung'\n",
    "text"
   ]
  },
  {
   "cell_type": "code",
   "execution_count": 47,
   "metadata": {},
   "outputs": [
    {
     "data": {
      "text/plain": [
       "'ich bin ein text mit ganz wüster gross und kleinschreibung'"
      ]
     },
     "execution_count": 47,
     "metadata": {},
     "output_type": "execute_result"
    }
   ],
   "source": [
    "text.lower()"
   ]
  },
  {
   "cell_type": "code",
   "execution_count": 48,
   "metadata": {},
   "outputs": [
    {
     "data": {
      "text/plain": [
       "'ICH BIN EIN TEXT MIT GANZ WÜSTER GROSS UND KLEINSCHREIBUNG'"
      ]
     },
     "execution_count": 48,
     "metadata": {},
     "output_type": "execute_result"
    }
   ],
   "source": [
    "text.upper()"
   ]
  },
  {
   "cell_type": "code",
   "execution_count": 1,
   "metadata": {},
   "outputs": [
    {
     "name": "stdout",
     "output_type": "stream",
     "text": [
      "Jo, das ist meine Eingabe  --\n",
      "   . Jo, das ist meine Eingabe\n",
      "Jo, das ist meine Eingabe\n",
      "Jo, das ist meine Eingabe\n"
     ]
    }
   ],
   "source": [
    "eingabe = '   . Jo, das ist meine Eingabe  --'\n",
    "\n",
    "print(eingabe.lstrip(' .'))\n",
    "print(eingabe.rstrip(' -'))\n",
    "print(eingabe.strip(' .-'))\n",
    "print(eingabe.strip(' ,.-'))"
   ]
  },
  {
   "cell_type": "code",
   "execution_count": 65,
   "metadata": {},
   "outputs": [
    {
     "data": {
      "text/plain": [
       "['Apples', ' Bananas', ' Lemons']"
      ]
     },
     "execution_count": 65,
     "metadata": {},
     "output_type": "execute_result"
    }
   ],
   "source": [
    "'Apples, Bananas, Lemons'.split(',')"
   ]
  },
  {
   "cell_type": "markdown",
   "metadata": {},
   "source": [
    "Übung:\n",
    "\n",
    "Schreibe eine Funktion, die den Benutzer eine Liste von Begriffen eingeben lässt (`input()`) und zurück gibt (`return`).\n",
    "Die Begriffe sollen in einer Zeile eingegeben und mit einem Komma getrennt werden.\n",
    "Überschüssige Leerzeichen vor und hinter den Begriffen sollen bereinigt werden."
   ]
  },
  {
   "cell_type": "code",
   "execution_count": 8,
   "metadata": {},
   "outputs": [
    {
     "name": "stdout",
     "output_type": "stream",
     "text": [
      "['Ananas', ' Papaya', ' Cherimoya']\n"
     ]
    }
   ],
   "source": [
    "def list_input():\n",
    "    eingabe = input(\"Gib ein paar Früchte ein!\").strip()\n",
    "    return eingabe.split(',')\n",
    "print(list_input())\n"
   ]
  },
  {
   "cell_type": "markdown",
   "metadata": {},
   "source": [
    "Übung:\n",
    "\n",
    "Schreibe eine Funktion, die den Benutzer eine Liste von Zutaten und dazugehörigen Mengen eingeben lässt (`input()`) und als Dictionary zurück gibt."
   ]
  },
  {
   "cell_type": "code",
   "execution_count": 9,
   "metadata": {},
   "outputs": [
    {
     "name": "stdout",
     "output_type": "stream",
     "text": [
      "{'Mehl': '500 Gramm', 'Zucker': '120 g', 'Banane': '3'}\n"
     ]
    }
   ],
   "source": [
    "\n",
    "def rezept():\n",
    "    zutatenliste = {}\n",
    "    while input(\"Möchtest du eine Zutat hinzufügen? J/N \") == 'J':\n",
    "        \n",
    "        zutat = input('Gib eine Zutat ein')\n",
    "        menge = input('Gib eine Menge in Gramm, Liter, Tassen oder was immer du willst ein')\n",
    "        zutatenliste[zutat] = menge\n",
    "    return zutatenliste \n",
    "\n",
    "print(rezept()) \n",
    "\n",
    "\n",
    "\n"
   ]
  },
  {
   "cell_type": "markdown",
   "metadata": {},
   "source": [
    "## Find, count and replace"
   ]
  },
  {
   "cell_type": "code",
   "execution_count": null,
   "metadata": {},
   "outputs": [
    {
     "data": {
      "text/plain": [
       "21"
      ]
     },
     "execution_count": 5,
     "metadata": {},
     "output_type": "execute_result"
    }
   ],
   "source": [
    "'Wo geht es hier nach Panama?'.find('Panama')"
   ]
  },
  {
   "cell_type": "code",
   "execution_count": null,
   "metadata": {},
   "outputs": [
    {
     "data": {
      "text/plain": [
       "0"
      ]
     },
     "execution_count": 66,
     "metadata": {},
     "output_type": "execute_result"
    }
   ],
   "source": [
    "'Wo geht es hier nach Panama?'.find('Wo')"
   ]
  },
  {
   "cell_type": "code",
   "execution_count": null,
   "metadata": {},
   "outputs": [
    {
     "data": {
      "text/plain": [
       "-1"
      ]
     },
     "execution_count": 67,
     "metadata": {},
     "output_type": "execute_result"
    }
   ],
   "source": [
    "'Wo geht es hier nach Panama?'.find('Mexiko')"
   ]
  },
  {
   "cell_type": "code",
   "execution_count": null,
   "metadata": {},
   "outputs": [
    {
     "data": {
      "text/plain": [
       "3"
      ]
     },
     "execution_count": 70,
     "metadata": {},
     "output_type": "execute_result"
    }
   ],
   "source": [
    "'Blau, Blau, Blau sind alle meine Farben'.count('Blau')"
   ]
  },
  {
   "cell_type": "code",
   "execution_count": null,
   "metadata": {},
   "outputs": [
    {
     "data": {
      "text/plain": [
       "3"
      ]
     },
     "execution_count": 73,
     "metadata": {},
     "output_type": "execute_result"
    }
   ],
   "source": [
    "'Blau, blau, Blau sind alle meine Farben'.lower().count('blau')"
   ]
  },
  {
   "cell_type": "code",
   "execution_count": null,
   "metadata": {},
   "outputs": [
    {
     "data": {
      "text/plain": [
       "'Ich mag Äpfel'"
      ]
     },
     "execution_count": 4,
     "metadata": {},
     "output_type": "execute_result"
    }
   ],
   "source": [
    "'Ich mag Bananen'.replace('Bananen', 'Äpfel')"
   ]
  },
  {
   "cell_type": "code",
   "execution_count": null,
   "metadata": {},
   "outputs": [
    {
     "data": {
      "text/plain": [
       "'Ich mag Bananen'"
      ]
     },
     "execution_count": 74,
     "metadata": {},
     "output_type": "execute_result"
    }
   ],
   "source": [
    "user_input = input('Was magst du für Obst?')\n",
    "user_input.replace('Äpfel', 'Bananen')"
   ]
  }
 ],
 "metadata": {
  "kernelspec": {
   "display_name": ".venv",
   "language": "python",
   "name": "python3"
  },
  "language_info": {
   "codemirror_mode": {
    "name": "ipython",
    "version": 3
   },
   "file_extension": ".py",
   "mimetype": "text/x-python",
   "name": "python",
   "nbconvert_exporter": "python",
   "pygments_lexer": "ipython3",
   "version": "3.10.12"
  }
 },
 "nbformat": 4,
 "nbformat_minor": 2
}
