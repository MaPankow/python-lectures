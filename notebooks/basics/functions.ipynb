{
 "cells": [
  {
   "cell_type": "markdown",
   "metadata": {},
   "source": [
    "# Functions"
   ]
  },
  {
   "cell_type": "code",
   "execution_count": null,
   "metadata": {},
   "outputs": [],
   "source": [
    "def my_function():\n",
    "    return"
   ]
  },
  {
   "cell_type": "code",
   "execution_count": 2,
   "metadata": {},
   "outputs": [
    {
     "data": {
      "text/plain": [
       "42"
      ]
     },
     "execution_count": 2,
     "metadata": {},
     "output_type": "execute_result"
    }
   ],
   "source": [
    "def the_answer():\n",
    "    return 42\n",
    "\n",
    "answer = the_answer()\n",
    "answer"
   ]
  },
  {
   "cell_type": "code",
   "execution_count": 2,
   "metadata": {},
   "outputs": [
    {
     "data": {
      "text/plain": [
       "'Hi Niels!'"
      ]
     },
     "execution_count": 2,
     "metadata": {},
     "output_type": "execute_result"
    }
   ],
   "source": [
    "def say_hi(name):\n",
    "    return 'Hi ' + name + '!'\n",
    "\n",
    "say_hi('Niels')"
   ]
  },
  {
   "cell_type": "markdown",
   "metadata": {},
   "source": [
    "## Lambda functions"
   ]
  },
  {
   "cell_type": "markdown",
   "metadata": {},
   "source": [
    "## Recursion"
   ]
  },
  {
   "cell_type": "code",
   "execution_count": 9,
   "metadata": {},
   "outputs": [
    {
     "name": "stdout",
     "output_type": "stream",
     "text": [
      "5\n",
      "4\n",
      "3\n",
      "2\n",
      "1\n",
      "Boom!\n"
     ]
    }
   ],
   "source": [
    "def countdown(start):\n",
    "\n",
    "    # JavaScript zum Vergleich:\n",
    "    # for (let n = start; n > 0; n = n-1)\n",
    "    for n in range(start, 0, -1):\n",
    "        \n",
    "        # Schleifenkörper (später Funktionskörper)\n",
    "        print(n)\n",
    "\n",
    "    # Abschlussschritt (später Rekursionsanker)\n",
    "    # n == 0\n",
    "    print('Boom!')\n",
    "\n",
    "countdown(5)"
   ]
  },
  {
   "cell_type": "code",
   "execution_count": 3,
   "metadata": {},
   "outputs": [
    {
     "name": "stdout",
     "output_type": "stream",
     "text": [
      "5\n",
      "4\n",
      "3\n",
      "2\n",
      "1\n",
      "Boom!\n"
     ]
    }
   ],
   "source": [
    "def countdown(start):\n",
    "    # Rekursionsanker: Bedingung unter der wir abbrechen\n",
    "    if start <= 0:\n",
    "        print('Boom!')\n",
    "        return\n",
    "    \n",
    "    # Funktionskörper\n",
    "    print(start)\n",
    "\n",
    "    # Rekursiver Aufruf mit veränderten Parametern\n",
    "    countdown(start - 1)\n",
    "\n",
    "countdown(5)"
   ]
  },
  {
   "cell_type": "code",
   "execution_count": 11,
   "metadata": {},
   "outputs": [
    {
     "name": "stdout",
     "output_type": "stream",
     "text": [
      "Strophe 1\n",
      "Strophe 2\n",
      "Strophe 3\n",
      "Applaus bitte!\n"
     ]
    }
   ],
   "source": [
    "song = ['Strophe 1', 'Strophe 2', 'Strophe 3']\n",
    "\n",
    "def sing(song, strophe):\n",
    "\n",
    "    if strophe >= len(song):\n",
    "        print('Applaus bitte!')\n",
    "        return\n",
    "    \n",
    "    print(song[strophe])\n",
    "\n",
    "    sing(song, strophe + 1)\n",
    "\n",
    "sing(song, 0)"
   ]
  },
  {
   "cell_type": "code",
   "execution_count": 15,
   "metadata": {},
   "outputs": [
    {
     "data": {
      "text/plain": [
       "8"
      ]
     },
     "execution_count": 15,
     "metadata": {},
     "output_type": "execute_result"
    }
   ],
   "source": [
    "# 0  1  2  3  4  5  6   7   8\n",
    "# 0, 1, 1, 2, 3, 5, 8, 13, 21, ...\n",
    "# fib(0) = 0\n",
    "# fib(1) = 1\n",
    "# fib(n) = fib(n-1) + fib(n-2)\n",
    "\n",
    "def fib(n):\n",
    "    if (n <= 0): return 0\n",
    "    if (n == 1): return 1\n",
    "    # n >= 2:\n",
    "    n_minus_2 = 0\n",
    "    n_minus_1 = 1\n",
    "    result = 0\n",
    "\n",
    "    for i in range(2, n + 1):\n",
    "        result = n_minus_1 + n_minus_2\n",
    "        n_minus_2 = n_minus_1\n",
    "        n_minus_1 = result\n",
    "    \n",
    "    return result\n",
    "\n",
    "fib(6)"
   ]
  },
  {
   "cell_type": "code",
   "execution_count": 16,
   "metadata": {},
   "outputs": [
    {
     "data": {
      "text/plain": [
       "8"
      ]
     },
     "execution_count": 16,
     "metadata": {},
     "output_type": "execute_result"
    }
   ],
   "source": [
    "def fib(n):\n",
    "    if (n <= 0): return 0\n",
    "    if (n == 1): return 1\n",
    "    return fib(n-1) + fib(n-2)\n",
    "\n",
    "fib(6)"
   ]
  },
  {
   "cell_type": "code",
   "execution_count": null,
   "metadata": {},
   "outputs": [],
   "source": [
    "'''\n",
    "/\n",
    "    home/\n",
    "        user/ Aufgabe: alle Verzeichnis-Inhalte anzeigen\n",
    "            Documents/\n",
    "                Doc1\n",
    "                Doc2\n",
    "                Doc3\n",
    "            Music/\n",
    "                Song1\n",
    "                Song2\n",
    "                Song3\n",
    "            Workspace/\n",
    "                project1/\n",
    "                    ...\n",
    "                project2/\n",
    "                    ...\n",
    "'''\n",
    "\n",
    "def all_contents(file_or_directory):\n",
    "    if (file_or_directory is file):\n",
    "        return file\n",
    "    elif (file_or_directory is directory):\n",
    "        for (file_or_directory2 in file_or_directory):\n",
    "            all_contents(file_or_directory2)"
   ]
  }
 ],
 "metadata": {
  "kernelspec": {
   "display_name": ".venv",
   "language": "python",
   "name": "python3"
  },
  "language_info": {
   "codemirror_mode": {
    "name": "ipython",
    "version": 3
   },
   "file_extension": ".py",
   "mimetype": "text/x-python",
   "name": "python",
   "nbconvert_exporter": "python",
   "pygments_lexer": "ipython3",
   "version": "3.9.19"
  }
 },
 "nbformat": 4,
 "nbformat_minor": 2
}
